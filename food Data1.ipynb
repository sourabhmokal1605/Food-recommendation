{
 "cells": [
  {
   "cell_type": "code",
   "execution_count": 1,
   "metadata": {},
   "outputs": [],
   "source": [
    "import matplotlib as plt\n",
    "import pandas as pd"
   ]
  },
  {
   "cell_type": "code",
   "execution_count": 2,
   "metadata": {},
   "outputs": [],
   "source": [
    "df= pd.read_csv('indian_food.csv')"
   ]
  },
  {
   "cell_type": "code",
   "execution_count": 3,
   "metadata": {},
   "outputs": [
    {
     "data": {
      "text/html": [
       "<div>\n",
       "<style scoped>\n",
       "    .dataframe tbody tr th:only-of-type {\n",
       "        vertical-align: middle;\n",
       "    }\n",
       "\n",
       "    .dataframe tbody tr th {\n",
       "        vertical-align: top;\n",
       "    }\n",
       "\n",
       "    .dataframe thead th {\n",
       "        text-align: right;\n",
       "    }\n",
       "</style>\n",
       "<table border=\"1\" class=\"dataframe\">\n",
       "  <thead>\n",
       "    <tr style=\"text-align: right;\">\n",
       "      <th></th>\n",
       "      <th>name</th>\n",
       "      <th>diet</th>\n",
       "      <th>flavor_profile</th>\n",
       "      <th>course</th>\n",
       "      <th>state</th>\n",
       "      <th>region</th>\n",
       "      <th>price_in_INR_perplate</th>\n",
       "      <th>image</th>\n",
       "    </tr>\n",
       "  </thead>\n",
       "  <tbody>\n",
       "    <tr>\n",
       "      <th>0</th>\n",
       "      <td>Balu shahi</td>\n",
       "      <td>vegetarian</td>\n",
       "      <td>sweet</td>\n",
       "      <td>sweetdish</td>\n",
       "      <td>West Bengal</td>\n",
       "      <td>East</td>\n",
       "      <td>600/kg</td>\n",
       "      <td>NaN</td>\n",
       "    </tr>\n",
       "    <tr>\n",
       "      <th>1</th>\n",
       "      <td>Boondi</td>\n",
       "      <td>vegetarian</td>\n",
       "      <td>sweet</td>\n",
       "      <td>dessert</td>\n",
       "      <td>Rajasthan</td>\n",
       "      <td>West</td>\n",
       "      <td>400/kg</td>\n",
       "      <td>NaN</td>\n",
       "    </tr>\n",
       "    <tr>\n",
       "      <th>2</th>\n",
       "      <td>Gajar ka halwa</td>\n",
       "      <td>vegetarian</td>\n",
       "      <td>sweet</td>\n",
       "      <td>sweetdish</td>\n",
       "      <td>Punjab</td>\n",
       "      <td>North</td>\n",
       "      <td>90</td>\n",
       "      <td>NaN</td>\n",
       "    </tr>\n",
       "    <tr>\n",
       "      <th>3</th>\n",
       "      <td>Ghevar</td>\n",
       "      <td>vegetarian</td>\n",
       "      <td>sweet</td>\n",
       "      <td>sweetdish</td>\n",
       "      <td>Rajasthan</td>\n",
       "      <td>West</td>\n",
       "      <td>450</td>\n",
       "      <td>NaN</td>\n",
       "    </tr>\n",
       "    <tr>\n",
       "      <th>4</th>\n",
       "      <td>Gulab jamun</td>\n",
       "      <td>vegetarian</td>\n",
       "      <td>sweet</td>\n",
       "      <td>bengalimithai</td>\n",
       "      <td>West Bengal</td>\n",
       "      <td>East</td>\n",
       "      <td>200/kg</td>\n",
       "      <td>NaN</td>\n",
       "    </tr>\n",
       "    <tr>\n",
       "      <th>5</th>\n",
       "      <td>Jalebi</td>\n",
       "      <td>vegetarian</td>\n",
       "      <td>sweet</td>\n",
       "      <td>dessert</td>\n",
       "      <td>Uttar Pradesh</td>\n",
       "      <td>North</td>\n",
       "      <td>200/kg</td>\n",
       "      <td>NaN</td>\n",
       "    </tr>\n",
       "    <tr>\n",
       "      <th>6</th>\n",
       "      <td>Kaju katli</td>\n",
       "      <td>vegetarian</td>\n",
       "      <td>sweet</td>\n",
       "      <td>mithai</td>\n",
       "      <td>Gujrat</td>\n",
       "      <td>west</td>\n",
       "      <td>800/kg</td>\n",
       "      <td>NaN</td>\n",
       "    </tr>\n",
       "    <tr>\n",
       "      <th>7</th>\n",
       "      <td>Kheer</td>\n",
       "      <td>vegetarian</td>\n",
       "      <td>sweet</td>\n",
       "      <td>dessert</td>\n",
       "      <td>Maharashtra</td>\n",
       "      <td>west</td>\n",
       "      <td>50</td>\n",
       "      <td>NaN</td>\n",
       "    </tr>\n",
       "    <tr>\n",
       "      <th>8</th>\n",
       "      <td>Laddu</td>\n",
       "      <td>vegetarian</td>\n",
       "      <td>sweet</td>\n",
       "      <td>laddu</td>\n",
       "      <td>depends on type you take.</td>\n",
       "      <td>NaN</td>\n",
       "      <td>300/kg</td>\n",
       "      <td>NaN</td>\n",
       "    </tr>\n",
       "    <tr>\n",
       "      <th>9</th>\n",
       "      <td>Lassi</td>\n",
       "      <td>vegetarian</td>\n",
       "      <td>sweet</td>\n",
       "      <td>dessert</td>\n",
       "      <td>Punjab</td>\n",
       "      <td>North</td>\n",
       "      <td>15</td>\n",
       "      <td>NaN</td>\n",
       "    </tr>\n",
       "    <tr>\n",
       "      <th>10</th>\n",
       "      <td>Nankhatai</td>\n",
       "      <td>vegetarian</td>\n",
       "      <td>sweet</td>\n",
       "      <td>dessert</td>\n",
       "      <td>Gujrat</td>\n",
       "      <td>west</td>\n",
       "      <td>300/kg</td>\n",
       "      <td>NaN</td>\n",
       "    </tr>\n",
       "    <tr>\n",
       "      <th>11</th>\n",
       "      <td>Petha</td>\n",
       "      <td>vegetarian</td>\n",
       "      <td>sweet</td>\n",
       "      <td>mithai</td>\n",
       "      <td>Uttar Pradesh</td>\n",
       "      <td>North</td>\n",
       "      <td>350/kg</td>\n",
       "      <td>NaN</td>\n",
       "    </tr>\n",
       "    <tr>\n",
       "      <th>12</th>\n",
       "      <td>Phirni</td>\n",
       "      <td>vegetarian</td>\n",
       "      <td>sweet</td>\n",
       "      <td>dessert</td>\n",
       "      <td>Odisha</td>\n",
       "      <td>East</td>\n",
       "      <td>350/kg</td>\n",
       "      <td>NaN</td>\n",
       "    </tr>\n",
       "    <tr>\n",
       "      <th>13</th>\n",
       "      <td>Rabdi</td>\n",
       "      <td>vegetarian</td>\n",
       "      <td>sweet</td>\n",
       "      <td>dessert</td>\n",
       "      <td>Uttar Pradesh</td>\n",
       "      <td>North</td>\n",
       "      <td>200/kg</td>\n",
       "      <td>NaN</td>\n",
       "    </tr>\n",
       "    <tr>\n",
       "      <th>14</th>\n",
       "      <td>Sheera</td>\n",
       "      <td>vegetarian</td>\n",
       "      <td>sweet</td>\n",
       "      <td>dessert</td>\n",
       "      <td>Maharashtra</td>\n",
       "      <td>West</td>\n",
       "      <td>150/kg</td>\n",
       "      <td>NaN</td>\n",
       "    </tr>\n",
       "    <tr>\n",
       "      <th>15</th>\n",
       "      <td>Sohan papdi</td>\n",
       "      <td>vegetarian</td>\n",
       "      <td>sweet</td>\n",
       "      <td>mithai</td>\n",
       "      <td>Maharashtra</td>\n",
       "      <td>West</td>\n",
       "      <td>150/kg</td>\n",
       "      <td>NaN</td>\n",
       "    </tr>\n",
       "    <tr>\n",
       "      <th>16</th>\n",
       "      <td>Kheer sagar</td>\n",
       "      <td>vegetarian</td>\n",
       "      <td>sweet</td>\n",
       "      <td>dessert</td>\n",
       "      <td>Odisha</td>\n",
       "      <td>East</td>\n",
       "      <td>100/kg</td>\n",
       "      <td>NaN</td>\n",
       "    </tr>\n",
       "    <tr>\n",
       "      <th>17</th>\n",
       "      <td>Malapua</td>\n",
       "      <td>vegetarian</td>\n",
       "      <td>sweet</td>\n",
       "      <td>dessert</td>\n",
       "      <td>Bihar</td>\n",
       "      <td>North</td>\n",
       "      <td>300/kg</td>\n",
       "      <td>NaN</td>\n",
       "    </tr>\n",
       "    <tr>\n",
       "      <th>18</th>\n",
       "      <td>Misti doi</td>\n",
       "      <td>vegetarian</td>\n",
       "      <td>sweet</td>\n",
       "      <td>dessert</td>\n",
       "      <td>West Bengal</td>\n",
       "      <td>East</td>\n",
       "      <td>250/kg</td>\n",
       "      <td>NaN</td>\n",
       "    </tr>\n",
       "    <tr>\n",
       "      <th>19</th>\n",
       "      <td>Pantua</td>\n",
       "      <td>vegetarian</td>\n",
       "      <td>sweet</td>\n",
       "      <td>dessert</td>\n",
       "      <td>West Bengal</td>\n",
       "      <td>East</td>\n",
       "      <td>150/kg</td>\n",
       "      <td>NaN</td>\n",
       "    </tr>\n",
       "  </tbody>\n",
       "</table>\n",
       "</div>"
      ],
      "text/plain": [
       "              name        diet flavor_profile         course  \\\n",
       "0       Balu shahi  vegetarian          sweet      sweetdish   \n",
       "1           Boondi  vegetarian          sweet        dessert   \n",
       "2   Gajar ka halwa  vegetarian          sweet      sweetdish   \n",
       "3           Ghevar  vegetarian          sweet      sweetdish   \n",
       "4      Gulab jamun  vegetarian          sweet  bengalimithai   \n",
       "5           Jalebi  vegetarian          sweet        dessert   \n",
       "6       Kaju katli  vegetarian          sweet         mithai   \n",
       "7            Kheer  vegetarian          sweet        dessert   \n",
       "8            Laddu  vegetarian          sweet          laddu   \n",
       "9            Lassi  vegetarian          sweet        dessert   \n",
       "10       Nankhatai  vegetarian          sweet        dessert   \n",
       "11           Petha  vegetarian          sweet         mithai   \n",
       "12          Phirni  vegetarian          sweet        dessert   \n",
       "13           Rabdi  vegetarian          sweet        dessert   \n",
       "14          Sheera  vegetarian          sweet        dessert   \n",
       "15     Sohan papdi  vegetarian          sweet         mithai   \n",
       "16     Kheer sagar  vegetarian          sweet        dessert   \n",
       "17         Malapua  vegetarian          sweet        dessert   \n",
       "18       Misti doi  vegetarian          sweet        dessert   \n",
       "19          Pantua  vegetarian          sweet        dessert   \n",
       "\n",
       "                        state region price_in_INR_perplate  image  \n",
       "0                 West Bengal   East                600/kg    NaN  \n",
       "1                   Rajasthan   West                400/kg    NaN  \n",
       "2                      Punjab  North                    90    NaN  \n",
       "3                   Rajasthan   West                   450    NaN  \n",
       "4                 West Bengal   East                200/kg    NaN  \n",
       "5               Uttar Pradesh  North                200/kg    NaN  \n",
       "6                      Gujrat   west                800/kg    NaN  \n",
       "7                 Maharashtra   west                    50    NaN  \n",
       "8   depends on type you take.    NaN                300/kg    NaN  \n",
       "9                      Punjab  North                    15    NaN  \n",
       "10                     Gujrat   west                300/kg    NaN  \n",
       "11              Uttar Pradesh  North                350/kg    NaN  \n",
       "12                     Odisha   East                350/kg    NaN  \n",
       "13              Uttar Pradesh  North                200/kg    NaN  \n",
       "14                Maharashtra   West                150/kg    NaN  \n",
       "15                Maharashtra   West                150/kg    NaN  \n",
       "16                     Odisha   East                100/kg    NaN  \n",
       "17                      Bihar  North                300/kg    NaN  \n",
       "18                West Bengal   East                250/kg    NaN  \n",
       "19                West Bengal   East                150/kg    NaN  "
      ]
     },
     "execution_count": 3,
     "metadata": {},
     "output_type": "execute_result"
    }
   ],
   "source": [
    "df.head(20)"
   ]
  },
  {
   "cell_type": "code",
   "execution_count": 4,
   "metadata": {},
   "outputs": [
    {
     "name": "stdout",
     "output_type": "stream",
     "text": [
      "               name         course        state\n",
      "0        Balu shahi      sweetdish  West Bengal\n",
      "1            Boondi        dessert    Rajasthan\n",
      "2    Gajar ka halwa      sweetdish       Punjab\n",
      "3            Ghevar      sweetdish    Rajasthan\n",
      "4       Gulab jamun  bengalimithai  West Bengal\n",
      "..              ...            ...          ...\n",
      "218           naan          Normal          NaN\n",
      "219     rumali roti         Normal          NaN\n",
      "220   chicken momos          momos          NaN\n",
      "221    mutton momos          momos          NaN\n",
      "222   tandoori momo          momos          NaN\n",
      "\n",
      "[223 rows x 3 columns]\n"
     ]
    }
   ],
   "source": [
    "print(df[['name','course','state']])"
   ]
  },
  {
   "cell_type": "code",
   "execution_count": 5,
   "metadata": {},
   "outputs": [
    {
     "data": {
      "text/plain": [
       "maincourse            60\n",
       "dessert               34\n",
       "breakfast             12\n",
       "snack                 12\n",
       "indochinese            9\n",
       "laddu                  8\n",
       "TraditionMah           8\n",
       "rice                   7\n",
       "soups                  7\n",
       "aagri                  7\n",
       "rolls                  6\n",
       "bengalimithai          6\n",
       "burgers                6\n",
       "chai                   5\n",
       "non vegmaincourse      5\n",
       "Normal                 5\n",
       "starter                4\n",
       "momos                  4\n",
       "mithai                 4\n",
       "fish                   3\n",
       "gujju                  3\n",
       "sweetdish              3\n",
       "non veg starter        2\n",
       "cofee                  2\n",
       "rice                   1\n",
       "Name: course, dtype: int64"
      ]
     },
     "execution_count": 5,
     "metadata": {},
     "output_type": "execute_result"
    }
   ],
   "source": [
    "df.course.value_counts()"
   ]
  },
  {
   "cell_type": "code",
   "execution_count": 6,
   "metadata": {},
   "outputs": [
    {
     "data": {
      "text/plain": [
       "maincourse            60\n",
       "dessert               34\n",
       "breakfast             12\n",
       "snack                 12\n",
       "indochinese            9\n",
       "laddu                  8\n",
       "TraditionMah           8\n",
       "rice                   7\n",
       "soups                  7\n",
       "aagri                  7\n",
       "rolls                  6\n",
       "bengalimithai          6\n",
       "burgers                6\n",
       "chai                   5\n",
       "non vegmaincourse      5\n",
       "Normal                 5\n",
       "starter                4\n",
       "momos                  4\n",
       "mithai                 4\n",
       "fish                   3\n",
       "gujju                  3\n",
       "sweetdish              3\n",
       "non veg starter        2\n",
       "cofee                  2\n",
       "rice                   1\n",
       "Name: course, dtype: int64"
      ]
     },
     "execution_count": 6,
     "metadata": {},
     "output_type": "execute_result"
    }
   ],
   "source": [
    "df.course.value_counts()"
   ]
  },
  {
   "cell_type": "code",
   "execution_count": 7,
   "metadata": {},
   "outputs": [
    {
     "data": {
      "text/plain": [
       "maincourse            0.269058\n",
       "dessert               0.152466\n",
       "breakfast             0.053812\n",
       "snack                 0.053812\n",
       "indochinese           0.040359\n",
       "laddu                 0.035874\n",
       "TraditionMah          0.035874\n",
       "rice                  0.031390\n",
       "soups                 0.031390\n",
       "aagri                 0.031390\n",
       "rolls                 0.026906\n",
       "bengalimithai         0.026906\n",
       "burgers               0.026906\n",
       "chai                  0.022422\n",
       "non vegmaincourse     0.022422\n",
       "Normal                0.022422\n",
       "starter               0.017937\n",
       "momos                 0.017937\n",
       "mithai                0.017937\n",
       "fish                  0.013453\n",
       "gujju                 0.013453\n",
       "sweetdish             0.013453\n",
       "non veg starter       0.008969\n",
       "cofee                 0.008969\n",
       "rice                  0.004484\n",
       "Name: course, dtype: float64"
      ]
     },
     "execution_count": 7,
     "metadata": {},
     "output_type": "execute_result"
    }
   ],
   "source": [
    "df.course.value_counts(normalize=True)"
   ]
  },
  {
   "cell_type": "code",
   "execution_count": 8,
   "metadata": {},
   "outputs": [
    {
     "data": {
      "text/plain": [
       "<Axes: >"
      ]
     },
     "execution_count": 8,
     "metadata": {},
     "output_type": "execute_result"
    },
    {
     "data": {
      "image/png": "[encoded data removed]",
      "text/plain": [
       "<Figure size 640x480 with 1 Axes>"
      ]
     },
     "metadata": {},
     "output_type": "display_data"
    }
   ],
   "source": [
    "df.course.value_counts().plot()"
   ]
  },
  {
   "cell_type": "code",
   "execution_count": 9,
   "metadata": {},
   "outputs": [
    {
     "data": {
      "text/html": [
       "<div>\n",
       "<style scoped>\n",
       "    .dataframe tbody tr th:only-of-type {\n",
       "        vertical-align: middle;\n",
       "    }\n",
       "\n",
       "    .dataframe tbody tr th {\n",
       "        vertical-align: top;\n",
       "    }\n",
       "\n",
       "    .dataframe thead th {\n",
       "        text-align: right;\n",
       "    }\n",
       "</style>\n",
       "<table border=\"1\" class=\"dataframe\">\n",
       "  <thead>\n",
       "    <tr style=\"text-align: right;\">\n",
       "      <th></th>\n",
       "      <th>name</th>\n",
       "      <th>diet</th>\n",
       "      <th>flavor_profile</th>\n",
       "      <th>course</th>\n",
       "      <th>state</th>\n",
       "      <th>region</th>\n",
       "      <th>price_in_INR_perplate</th>\n",
       "      <th>image</th>\n",
       "    </tr>\n",
       "  </thead>\n",
       "  <tbody>\n",
       "    <tr>\n",
       "      <th>37</th>\n",
       "      <td>Aloo tikki</td>\n",
       "      <td>vegetarian</td>\n",
       "      <td>spicy</td>\n",
       "      <td>snack</td>\n",
       "      <td>Punjab</td>\n",
       "      <td>North</td>\n",
       "      <td>NaN</td>\n",
       "      <td>NaN</td>\n",
       "    </tr>\n",
       "    <tr>\n",
       "      <th>56</th>\n",
       "      <td>Kachori</td>\n",
       "      <td>vegetarian</td>\n",
       "      <td>spicy</td>\n",
       "      <td>snack</td>\n",
       "      <td>Uttar Pradesh</td>\n",
       "      <td>North</td>\n",
       "      <td>NaN</td>\n",
       "      <td>NaN</td>\n",
       "    </tr>\n",
       "    <tr>\n",
       "      <th>74</th>\n",
       "      <td>Pani puri</td>\n",
       "      <td>vegetarian</td>\n",
       "      <td>spicy</td>\n",
       "      <td>snack</td>\n",
       "      <td>Uttar Pradesh</td>\n",
       "      <td>North</td>\n",
       "      <td>NaN</td>\n",
       "      <td>NaN</td>\n",
       "    </tr>\n",
       "    <tr>\n",
       "      <th>78</th>\n",
       "      <td>Samosa</td>\n",
       "      <td>vegetarian</td>\n",
       "      <td>spicy</td>\n",
       "      <td>snack</td>\n",
       "      <td>Punjab</td>\n",
       "      <td>North</td>\n",
       "      <td>NaN</td>\n",
       "      <td>NaN</td>\n",
       "    </tr>\n",
       "    <tr>\n",
       "      <th>90</th>\n",
       "      <td>Masala Dosa</td>\n",
       "      <td>vegetarian</td>\n",
       "      <td>spicy</td>\n",
       "      <td>snack</td>\n",
       "      <td>Tamil Nadu</td>\n",
       "      <td>South</td>\n",
       "      <td>NaN</td>\n",
       "      <td>NaN</td>\n",
       "    </tr>\n",
       "    <tr>\n",
       "      <th>111</th>\n",
       "      <td>dabeli</td>\n",
       "      <td>vegetarian</td>\n",
       "      <td>spicy</td>\n",
       "      <td>snack</td>\n",
       "      <td>Gujarat</td>\n",
       "      <td>West</td>\n",
       "      <td>NaN</td>\n",
       "      <td>NaN</td>\n",
       "    </tr>\n",
       "    <tr>\n",
       "      <th>112</th>\n",
       "      <td>Dahi vada</td>\n",
       "      <td>vegetarian</td>\n",
       "      <td>sweet</td>\n",
       "      <td>snack</td>\n",
       "      <td>Maharashtra</td>\n",
       "      <td>West</td>\n",
       "      <td>NaN</td>\n",
       "      <td>NaN</td>\n",
       "    </tr>\n",
       "    <tr>\n",
       "      <th>113</th>\n",
       "      <td>Dhokla</td>\n",
       "      <td>vegetarian</td>\n",
       "      <td>spicy</td>\n",
       "      <td>snack</td>\n",
       "      <td>Gujarat</td>\n",
       "      <td>West</td>\n",
       "      <td>NaN</td>\n",
       "      <td>NaN</td>\n",
       "    </tr>\n",
       "    <tr>\n",
       "      <th>125</th>\n",
       "      <td>Sabudana Khichadi</td>\n",
       "      <td>vegetarian</td>\n",
       "      <td>spicy</td>\n",
       "      <td>snack</td>\n",
       "      <td>Maharashtra</td>\n",
       "      <td>West</td>\n",
       "      <td>NaN</td>\n",
       "      <td>NaN</td>\n",
       "    </tr>\n",
       "    <tr>\n",
       "      <th>137</th>\n",
       "      <td>vada pav</td>\n",
       "      <td>vegetarian</td>\n",
       "      <td>spicy</td>\n",
       "      <td>snack</td>\n",
       "      <td>Maharashtra</td>\n",
       "      <td>west</td>\n",
       "      <td>15</td>\n",
       "      <td>NaN</td>\n",
       "    </tr>\n",
       "    <tr>\n",
       "      <th>146</th>\n",
       "      <td>Kanda bhaji</td>\n",
       "      <td>NaN</td>\n",
       "      <td>spicy</td>\n",
       "      <td>snack</td>\n",
       "      <td>maharashtra</td>\n",
       "      <td>west</td>\n",
       "      <td>20</td>\n",
       "      <td>NaN</td>\n",
       "    </tr>\n",
       "    <tr>\n",
       "      <th>147</th>\n",
       "      <td>Misal pav</td>\n",
       "      <td>vegetarian</td>\n",
       "      <td>spicy</td>\n",
       "      <td>snack</td>\n",
       "      <td>Maharashtra</td>\n",
       "      <td>West</td>\n",
       "      <td>40</td>\n",
       "      <td>NaN</td>\n",
       "    </tr>\n",
       "  </tbody>\n",
       "</table>\n",
       "</div>"
      ],
      "text/plain": [
       "                  name        diet flavor_profile course          state  \\\n",
       "37          Aloo tikki  vegetarian          spicy  snack         Punjab   \n",
       "56             Kachori  vegetarian          spicy  snack  Uttar Pradesh   \n",
       "74           Pani puri  vegetarian          spicy  snack  Uttar Pradesh   \n",
       "78              Samosa  vegetarian          spicy  snack         Punjab   \n",
       "90         Masala Dosa  vegetarian          spicy  snack     Tamil Nadu   \n",
       "111             dabeli  vegetarian          spicy  snack        Gujarat   \n",
       "112          Dahi vada  vegetarian          sweet  snack    Maharashtra   \n",
       "113             Dhokla  vegetarian          spicy  snack        Gujarat   \n",
       "125  Sabudana Khichadi  vegetarian          spicy  snack    Maharashtra   \n",
       "137           vada pav  vegetarian          spicy  snack    Maharashtra   \n",
       "146        Kanda bhaji         NaN          spicy  snack    maharashtra   \n",
       "147          Misal pav  vegetarian          spicy  snack    Maharashtra   \n",
       "\n",
       "    region price_in_INR_perplate  image  \n",
       "37   North                   NaN    NaN  \n",
       "56   North                   NaN    NaN  \n",
       "74   North                   NaN    NaN  \n",
       "78   North                   NaN    NaN  \n",
       "90   South                   NaN    NaN  \n",
       "111   West                   NaN    NaN  \n",
       "112   West                   NaN    NaN  \n",
       "113   West                   NaN    NaN  \n",
       "125   West                   NaN    NaN  \n",
       "137   west                    15    NaN  \n",
       "146   west                    20    NaN  \n",
       "147   West                    40    NaN  "
      ]
     },
     "execution_count": 9,
     "metadata": {},
     "output_type": "execute_result"
    }
   ],
   "source": [
    "df[df['course']=='snack']"
   ]
  },
  {
   "cell_type": "code",
   "execution_count": 10,
   "metadata": {},
   "outputs": [
    {
     "data": {
      "text/html": [
       "<div>\n",
       "<style scoped>\n",
       "    .dataframe tbody tr th:only-of-type {\n",
       "        vertical-align: middle;\n",
       "    }\n",
       "\n",
       "    .dataframe tbody tr th {\n",
       "        vertical-align: top;\n",
       "    }\n",
       "\n",
       "    .dataframe thead th {\n",
       "        text-align: right;\n",
       "    }\n",
       "</style>\n",
       "<table border=\"1\" class=\"dataframe\">\n",
       "  <thead>\n",
       "    <tr style=\"text-align: right;\">\n",
       "      <th></th>\n",
       "      <th>name</th>\n",
       "      <th>diet</th>\n",
       "      <th>flavor_profile</th>\n",
       "      <th>course</th>\n",
       "      <th>state</th>\n",
       "      <th>region</th>\n",
       "      <th>price_in_INR_perplate</th>\n",
       "      <th>image</th>\n",
       "    </tr>\n",
       "  </thead>\n",
       "  <tbody>\n",
       "    <tr>\n",
       "      <th>144</th>\n",
       "      <td>chicken dry</td>\n",
       "      <td>non vegetarian</td>\n",
       "      <td>spicy</td>\n",
       "      <td>aagri</td>\n",
       "      <td>maharashtra</td>\n",
       "      <td>west</td>\n",
       "      <td>200</td>\n",
       "      <td>NaN</td>\n",
       "    </tr>\n",
       "  </tbody>\n",
       "</table>\n",
       "</div>"
      ],
      "text/plain": [
       "            name            diet flavor_profile course        state region  \\\n",
       "144  chicken dry  non vegetarian          spicy  aagri  maharashtra   west   \n",
       "\n",
       "    price_in_INR_perplate  image  \n",
       "144                   200    NaN  "
      ]
     },
     "execution_count": 10,
     "metadata": {},
     "output_type": "execute_result"
    }
   ],
   "source": [
    "df[df['name']=='chicken dry']"
   ]
  },
  {
   "cell_type": "code",
   "execution_count": 11,
   "metadata": {},
   "outputs": [],
   "source": [
    "a=df[df['name']=='chicken dry']['course']"
   ]
  },
  {
   "cell_type": "code",
   "execution_count": 12,
   "metadata": {
    "scrolled": true
   },
   "outputs": [
    {
     "data": {
      "text/plain": [
       "144    aagri\n",
       "Name: course, dtype: object"
      ]
     },
     "execution_count": 12,
     "metadata": {},
     "output_type": "execute_result"
    }
   ],
   "source": [
    "a"
   ]
  },
  {
   "cell_type": "code",
   "execution_count": 13,
   "metadata": {},
   "outputs": [],
   "source": [
    "#a.rank()\n",
    "#df.loc[b,'Genre']\n",
    "\n",
    "b=a.to_string(index=False)\n",
    "c=b.replace(\" \", \"\")"
   ]
  },
  {
   "cell_type": "code",
   "execution_count": 14,
   "metadata": {},
   "outputs": [
    {
     "data": {
      "text/plain": [
       "'aagri'"
      ]
     },
     "execution_count": 14,
     "metadata": {},
     "output_type": "execute_result"
    }
   ],
   "source": [
    "c"
   ]
  },
  {
   "cell_type": "code",
   "execution_count": 15,
   "metadata": {},
   "outputs": [],
   "source": [
    "x=[]\n",
    "x.append(c)"
   ]
  },
  {
   "cell_type": "code",
   "execution_count": 16,
   "metadata": {},
   "outputs": [
    {
     "data": {
      "text/plain": [
       "['aagri']"
      ]
     },
     "execution_count": 16,
     "metadata": {},
     "output_type": "execute_result"
    }
   ],
   "source": [
    "x"
   ]
  },
  {
   "cell_type": "code",
   "execution_count": 17,
   "metadata": {},
   "outputs": [],
   "source": [
    "y=[]"
   ]
  },
  {
   "cell_type": "code",
   "execution_count": 18,
   "metadata": {},
   "outputs": [],
   "source": [
    "for i in df['course']:\n",
    "    if i==x[0]:\n",
    "        y.append(df[df['course']==i]['name'])"
   ]
  },
  {
   "cell_type": "code",
   "execution_count": 19,
   "metadata": {},
   "outputs": [
    {
     "data": {
      "text/plain": [
       "[119      Kombdi vade\n",
       " 120           Laapsi\n",
       " 142       mutton dry\n",
       " 143     mutton curry\n",
       " 144      chicken dry\n",
       " 145    chicken curry\n",
       " 159        dal mundi\n",
       " Name: name, dtype: object,\n",
       " 119      Kombdi vade\n",
       " 120           Laapsi\n",
       " 142       mutton dry\n",
       " 143     mutton curry\n",
       " 144      chicken dry\n",
       " 145    chicken curry\n",
       " 159        dal mundi\n",
       " Name: name, dtype: object,\n",
       " 119      Kombdi vade\n",
       " 120           Laapsi\n",
       " 142       mutton dry\n",
       " 143     mutton curry\n",
       " 144      chicken dry\n",
       " 145    chicken curry\n",
       " 159        dal mundi\n",
       " Name: name, dtype: object,\n",
       " 119      Kombdi vade\n",
       " 120           Laapsi\n",
       " 142       mutton dry\n",
       " 143     mutton curry\n",
       " 144      chicken dry\n",
       " 145    chicken curry\n",
       " 159        dal mundi\n",
       " Name: name, dtype: object,\n",
       " 119      Kombdi vade\n",
       " 120           Laapsi\n",
       " 142       mutton dry\n",
       " 143     mutton curry\n",
       " 144      chicken dry\n",
       " 145    chicken curry\n",
       " 159        dal mundi\n",
       " Name: name, dtype: object,\n",
       " 119      Kombdi vade\n",
       " 120           Laapsi\n",
       " 142       mutton dry\n",
       " 143     mutton curry\n",
       " 144      chicken dry\n",
       " 145    chicken curry\n",
       " 159        dal mundi\n",
       " Name: name, dtype: object,\n",
       " 119      Kombdi vade\n",
       " 120           Laapsi\n",
       " 142       mutton dry\n",
       " 143     mutton curry\n",
       " 144      chicken dry\n",
       " 145    chicken curry\n",
       " 159        dal mundi\n",
       " Name: name, dtype: object]"
      ]
     },
     "execution_count": 19,
     "metadata": {},
     "output_type": "execute_result"
    }
   ],
   "source": [
    "y"
   ]
  },
  {
   "cell_type": "code",
   "execution_count": 20,
   "metadata": {},
   "outputs": [],
   "source": [
    "z=y[0].to_string(index=False)\n",
    "q=z.replace(\" \", \"\")"
   ]
  },
  {
   "cell_type": "code",
   "execution_count": 21,
   "metadata": {},
   "outputs": [
    {
     "data": {
      "text/plain": [
       "'Kombdivade\\nLaapsi\\nmuttondry\\nmuttoncurry\\nchickendry\\nchickencurry\\ndalmundi'"
      ]
     },
     "execution_count": 21,
     "metadata": {},
     "output_type": "execute_result"
    }
   ],
   "source": [
    "q"
   ]
  },
  {
   "cell_type": "code",
   "execution_count": 22,
   "metadata": {},
   "outputs": [
    {
     "data": {
      "text/plain": [
       "['Kombdivade',\n",
       " 'Laapsi',\n",
       " 'muttondry',\n",
       " 'muttoncurry',\n",
       " 'chickendry',\n",
       " 'chickencurry',\n",
       " 'dalmundi']"
      ]
     },
     "execution_count": 22,
     "metadata": {},
     "output_type": "execute_result"
    }
   ],
   "source": [
    "#y[0]\n",
    "#x=y[0].split(\" \")\n",
    "#sub_df.iloc[0]['A']\n",
    "answer=q.split(\"\\n\")\n",
    "answer"
   ]
  },
  {
   "cell_type": "code",
   "execution_count": 23,
   "metadata": {},
   "outputs": [],
   "source": [
    "sort=df[df['course']==x[0]]"
   ]
  },
  {
   "cell_type": "code",
   "execution_count": 24,
   "metadata": {},
   "outputs": [
    {
     "ename": "KeyError",
     "evalue": "'price_in_INR'",
     "output_type": "error",
     "traceback": [
      "\u001b[1;31m---------------------------------------------------------------------------\u001b[0m",
      "\u001b[1;31mKeyError\u001b[0m                                  Traceback (most recent call last)",
      "Cell \u001b[1;32mIn[24], line 1\u001b[0m\n\u001b[1;32m----> 1\u001b[0m \u001b[43msort\u001b[49m\u001b[38;5;241;43m.\u001b[39;49m\u001b[43msort_values\u001b[49m\u001b[43m(\u001b[49m\u001b[43mby\u001b[49m\u001b[38;5;241;43m=\u001b[39;49m\u001b[43m[\u001b[49m\u001b[38;5;124;43m'\u001b[39;49m\u001b[38;5;124;43mprice_in_INR\u001b[39;49m\u001b[38;5;124;43m'\u001b[39;49m\u001b[43m]\u001b[49m\u001b[43m,\u001b[49m\u001b[43m \u001b[49m\u001b[43mascending\u001b[49m\u001b[38;5;241;43m=\u001b[39;49m\u001b[38;5;28;43;01mTrue\u001b[39;49;00m\u001b[43m)\u001b[49m\u001b[38;5;241m.\u001b[39mhead(\u001b[38;5;241m10\u001b[39m)\n",
      "File \u001b[1;32m~\\anaconda3\\lib\\site-packages\\pandas\\util\\_decorators.py:331\u001b[0m, in \u001b[0;36mdeprecate_nonkeyword_arguments.<locals>.decorate.<locals>.wrapper\u001b[1;34m(*args, **kwargs)\u001b[0m\n\u001b[0;32m    325\u001b[0m \u001b[38;5;28;01mif\u001b[39;00m \u001b[38;5;28mlen\u001b[39m(args) \u001b[38;5;241m>\u001b[39m num_allow_args:\n\u001b[0;32m    326\u001b[0m     warnings\u001b[38;5;241m.\u001b[39mwarn(\n\u001b[0;32m    327\u001b[0m         msg\u001b[38;5;241m.\u001b[39mformat(arguments\u001b[38;5;241m=\u001b[39m_format_argument_list(allow_args)),\n\u001b[0;32m    328\u001b[0m         \u001b[38;5;167;01mFutureWarning\u001b[39;00m,\n\u001b[0;32m    329\u001b[0m         stacklevel\u001b[38;5;241m=\u001b[39mfind_stack_level(),\n\u001b[0;32m    330\u001b[0m     )\n\u001b[1;32m--> 331\u001b[0m \u001b[38;5;28;01mreturn\u001b[39;00m func(\u001b[38;5;241m*\u001b[39margs, \u001b[38;5;241m*\u001b[39m\u001b[38;5;241m*\u001b[39mkwargs)\n",
      "File \u001b[1;32m~\\anaconda3\\lib\\site-packages\\pandas\\core\\frame.py:6912\u001b[0m, in \u001b[0;36mDataFrame.sort_values\u001b[1;34m(self, by, axis, ascending, inplace, kind, na_position, ignore_index, key)\u001b[0m\n\u001b[0;32m   6908\u001b[0m \u001b[38;5;28;01melif\u001b[39;00m \u001b[38;5;28mlen\u001b[39m(by):\n\u001b[0;32m   6909\u001b[0m     \u001b[38;5;66;03m# len(by) == 1\u001b[39;00m\n\u001b[0;32m   6911\u001b[0m     by \u001b[38;5;241m=\u001b[39m by[\u001b[38;5;241m0\u001b[39m]\n\u001b[1;32m-> 6912\u001b[0m     k \u001b[38;5;241m=\u001b[39m \u001b[38;5;28;43mself\u001b[39;49m\u001b[38;5;241;43m.\u001b[39;49m\u001b[43m_get_label_or_level_values\u001b[49m\u001b[43m(\u001b[49m\u001b[43mby\u001b[49m\u001b[43m,\u001b[49m\u001b[43m \u001b[49m\u001b[43maxis\u001b[49m\u001b[38;5;241;43m=\u001b[39;49m\u001b[43maxis\u001b[49m\u001b[43m)\u001b[49m\n\u001b[0;32m   6914\u001b[0m     \u001b[38;5;66;03m# need to rewrap column in Series to apply key function\u001b[39;00m\n\u001b[0;32m   6915\u001b[0m     \u001b[38;5;28;01mif\u001b[39;00m key \u001b[38;5;129;01mis\u001b[39;00m \u001b[38;5;129;01mnot\u001b[39;00m \u001b[38;5;28;01mNone\u001b[39;00m:\n\u001b[0;32m   6916\u001b[0m         \u001b[38;5;66;03m# error: Incompatible types in assignment (expression has type\u001b[39;00m\n\u001b[0;32m   6917\u001b[0m         \u001b[38;5;66;03m# \"Series\", variable has type \"ndarray\")\u001b[39;00m\n",
      "File \u001b[1;32m~\\anaconda3\\lib\\site-packages\\pandas\\core\\generic.py:1850\u001b[0m, in \u001b[0;36mNDFrame._get_label_or_level_values\u001b[1;34m(self, key, axis)\u001b[0m\n\u001b[0;32m   1844\u001b[0m     values \u001b[38;5;241m=\u001b[39m (\n\u001b[0;32m   1845\u001b[0m         \u001b[38;5;28mself\u001b[39m\u001b[38;5;241m.\u001b[39maxes[axis]\n\u001b[0;32m   1846\u001b[0m         \u001b[38;5;241m.\u001b[39mget_level_values(key)  \u001b[38;5;66;03m# type: ignore[assignment]\u001b[39;00m\n\u001b[0;32m   1847\u001b[0m         \u001b[38;5;241m.\u001b[39m_values\n\u001b[0;32m   1848\u001b[0m     )\n\u001b[0;32m   1849\u001b[0m \u001b[38;5;28;01melse\u001b[39;00m:\n\u001b[1;32m-> 1850\u001b[0m     \u001b[38;5;28;01mraise\u001b[39;00m \u001b[38;5;167;01mKeyError\u001b[39;00m(key)\n\u001b[0;32m   1852\u001b[0m \u001b[38;5;66;03m# Check for duplicates\u001b[39;00m\n\u001b[0;32m   1853\u001b[0m \u001b[38;5;28;01mif\u001b[39;00m values\u001b[38;5;241m.\u001b[39mndim \u001b[38;5;241m>\u001b[39m \u001b[38;5;241m1\u001b[39m:\n",
      "\u001b[1;31mKeyError\u001b[0m: 'price_in_INR'"
     ]
    }
   ],
   "source": [
    "sort.sort_values(by=['price_in_INR'], ascending=True).head(10)"
   ]
  },
  {
   "cell_type": "code",
   "execution_count": null,
   "metadata": {},
   "outputs": [],
   "source": [
    "dish_name=\"Prawns dry\""
   ]
  },
  {
   "cell_type": "code",
   "execution_count": null,
   "metadata": {},
   "outputs": [],
   "source": [
    "import matplotlib as plt\n",
    "import pandas as pd\n",
    "\n",
    "df= pd.read_csv('indian_food.csv')\n",
    "a=df[df['name']==dish_name]['course']\n",
    "\n",
    "b=a.to_string(index=False)\n",
    "c=b.replace(\" \", \"\")\n",
    "x=[]\n",
    "x.append(c)\n",
    "y=[]\n",
    "for i in df['course']:\n",
    "    if i==x[0]:\n",
    "        y.append(df[df['course']==i]['name'])\n",
    "z=y[0].to_string(index=False)\n",
    "q=z.replace(\" \", \"\")\n",
    "answer=q.split(\"\\n\")"
   ]
  },
  {
   "cell_type": "code",
   "execution_count": null,
   "metadata": {},
   "outputs": [],
   "source": [
    "answerimport matplotlib as plt\n",
    "import pandas as pd\n",
    "\n",
    "df= pd.read_csv('indian_food.csv')\n",
    "a=df[df['name']==dish_name]['course']\n",
    "\n",
    "b=a.to_string(index=False)\n",
    "c=b.replace(\" \", \"\")\n",
    "x=[]\n",
    "x.append(c)\n",
    "y=[]\n",
    "for i in df['course']:\n",
    "    if i==x[0]:\n",
    "        y.append(df[df['course']==i]['name'])\n",
    "z=y[0].to_string(index=False)\n",
    "q=z.replace(\" \", \"\")\n",
    "answer=q.split(\"\\n\")"
   ]
  },
  {
   "cell_type": "code",
   "execution_count": null,
   "metadata": {},
   "outputs": [],
   "source": []
  },
  {
   "cell_type": "code",
   "execution_count": null,
   "metadata": {},
   "outputs": [],
   "source": []
  },
  {
   "cell_type": "code",
   "execution_count": null,
   "metadata": {},
   "outputs": [],
   "source": []
  }
 ],
 "metadata": {
  "kernelspec": {
   "display_name": "Python 3 (ipykernel)",
   "language": "python",
   "name": "python3"
  },
  "language_info": {
   "codemirror_mode": {
    "name": "ipython",
    "version": 3
   },
   "file_extension": ".py",
   "mimetype": "text/x-python",
   "name": "python",
   "nbconvert_exporter": "python",
   "pygments_lexer": "ipython3",
   "version": "3.10.9"
  }
 },
 "nbformat": 4,
 "nbformat_minor": 4
}
