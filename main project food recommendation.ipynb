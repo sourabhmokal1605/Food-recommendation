{
 "cells": [
  {
   "cell_type": "code",
   "execution_count": null,
   "metadata": {},
   "outputs": [
    {
     "name": "stdout",
     "output_type": "stream",
     "text": [
      " * Serving Flask app '__main__'\n",
      " * Debug mode: off\n"
     ]
    },
    {
     "name": "stderr",
     "output_type": "stream",
     "text": [
      "WARNING: This is a development server. Do not use it in a production deployment. Use a production WSGI server instead.\n",
      " * Running on http://127.0.0.1:5000\n",
      "Press CTRL+C to quit\n",
      "127.0.0.1 - - [22/Jun/2023 19:32:23] \"GET / HTTP/1.1\" 200 -\n",
      "127.0.0.1 - - [22/Jun/2023 19:32:24] \"GET /favicon.ico HTTP/1.1\" 404 -\n",
      "127.0.0.1 - - [22/Jun/2023 19:32:24] \"GET /favicon.ico HTTP/1.1\" 404 -\n",
      "127.0.0.1 - - [22/Jun/2023 19:32:24] \"GET /favicon.ico HTTP/1.1\" 404 -\n",
      "127.0.0.1 - - [22/Jun/2023 19:32:45] \"POST / HTTP/1.1\" 200 -\n",
      "127.0.0.1 - - [22/Jun/2023 19:32:45] \"GET /favicon.ico HTTP/1.1\" 404 -\n",
      "127.0.0.1 - - [22/Jun/2023 19:32:46] \"GET /favicon.ico HTTP/1.1\" 404 -\n",
      "127.0.0.1 - - [22/Jun/2023 19:32:50] \"GET /about_us HTTP/1.1\" 200 -\n",
      "127.0.0.1 - - [22/Jun/2023 19:32:53] \"GET / HTTP/1.1\" 200 -\n",
      "127.0.0.1 - - [22/Jun/2023 19:32:53] \"GET /favicon.ico HTTP/1.1\" 404 -\n",
      "127.0.0.1 - - [22/Jun/2023 19:32:53] \"GET /favicon.ico HTTP/1.1\" 404 -\n",
      "127.0.0.1 - - [22/Jun/2023 19:32:54] \"GET /Contact_Us HTTP/1.1\" 200 -\n",
      "127.0.0.1 - - [22/Jun/2023 19:32:55] \"GET / HTTP/1.1\" 200 -\n",
      "127.0.0.1 - - [22/Jun/2023 19:32:56] \"GET /favicon.ico HTTP/1.1\" 404 -\n",
      "127.0.0.1 - - [22/Jun/2023 19:32:56] \"GET /favicon.ico HTTP/1.1\" 404 -\n",
      "127.0.0.1 - - [22/Jun/2023 19:34:04] \"GET /about_us HTTP/1.1\" 200 -\n",
      "127.0.0.1 - - [22/Jun/2023 19:34:06] \"GET / HTTP/1.1\" 200 -\n",
      "127.0.0.1 - - [22/Jun/2023 19:34:06] \"GET /favicon.ico HTTP/1.1\" 404 -\n",
      "127.0.0.1 - - [22/Jun/2023 19:34:07] \"GET /favicon.ico HTTP/1.1\" 404 -\n",
      "127.0.0.1 - - [22/Jun/2023 19:34:07] \"GET /Contact_Us HTTP/1.1\" 200 -\n",
      "127.0.0.1 - - [22/Jun/2023 19:34:09] \"GET / HTTP/1.1\" 200 -\n",
      "127.0.0.1 - - [22/Jun/2023 19:34:09] \"GET /favicon.ico HTTP/1.1\" 404 -\n",
      "127.0.0.1 - - [22/Jun/2023 19:34:09] \"GET /favicon.ico HTTP/1.1\" 404 -\n"
     ]
    }
   ],
   "source": [
    "from flask import Flask, request, render_template, redirect, url_for\n",
    "import matplotlib as plt\n",
    "import pandas as pd\n",
    "\n",
    "# Flask constructor \n",
    "app = Flask(__name__) \n",
    "\n",
    "@app.route('/') \n",
    "def home():   \n",
    "    return render_template(\"front_page.html\")\n",
    "@app.route('/about_us')\n",
    "def about_us():\n",
    "    return render_template(\"about_us.html\")\n",
    "@app.route('/Contact_Us')\n",
    "def Contact_Us():\n",
    "    return render_template(\"Contact_Us.html\")\n",
    "@app.route('/front_page')\n",
    "def front_page():\n",
    "    return redirect(url_for('success'))\n",
    "\n",
    "@app.route('/', methods =[\"POST\"]) \n",
    "def welcome(): \n",
    "    dish_name = request.form[\"fname\"]\n",
    "\n",
    "   \n",
    "    df= pd.read_csv('indian_food.csv')\n",
    "    a=df[df['name']==dish_name]['course']\n",
    "\n",
    "    b=a.to_string(index=False)\n",
    "    c=b.replace(\" \", \"\")\n",
    "    x=[]\n",
    "    x.append(c)\n",
    "    y=[]\n",
    "    for i in df['course']:\n",
    "        if i==x[0]:\n",
    "            y.append(df[df['course']==i]['name'])\n",
    "    z=y[0].to_string(index=False)\n",
    "    q=z.replace(\" \", \"\")\n",
    "    answer=q.split(\"\\n\")\n",
    "    return render_template(\"front_page.html\", answer=answer[0:6]) \n",
    "  \n",
    "if __name__=='__main__':\n",
    "    app.run()"
   ]
  },
  {
   "cell_type": "code",
   "execution_count": null,
   "metadata": {},
   "outputs": [],
   "source": []
  },
  {
   "cell_type": "code",
   "execution_count": null,
   "metadata": {},
   "outputs": [],
   "source": []
  }
 ],
 "metadata": {
  "kernelspec": {
   "display_name": "Python 3 (ipykernel)",
   "language": "python",
   "name": "python3"
  },
  "language_info": {
   "codemirror_mode": {
    "name": "ipython",
    "version": 3
   },
   "file_extension": ".py",
   "mimetype": "text/x-python",
   "name": "python",
   "nbconvert_exporter": "python",
   "pygments_lexer": "ipython3",
   "version": "3.10.9"
  }
 },
 "nbformat": 4,
 "nbformat_minor": 4
}
